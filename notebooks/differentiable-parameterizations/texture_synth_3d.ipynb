{
  "nbformat": 4,
  "nbformat_minor": 0,
  "metadata": {
    "colab": {
      "name": "texture_synth_3d.ipynb",
      "version": "0.3.2",
      "provenance": [],
      "collapsed_sections": [],
      "include_colab_link": true
    },
    "kernelspec": {
      "name": "python3",
      "display_name": "Python 3"
    },
    "accelerator": "GPU"
  },
  "cells": [
    {
      "cell_type": "markdown",
      "metadata": {
        "id": "view-in-github",
        "colab_type": "text"
      },
      "source": [
        "[View in Colaboratory](https://colab.research.google.com/github/znah/lucid/blob/master/notebooks/differentiable-parameterizations/texture_synth_3d.ipynb)"
      ]
    },
    {
      "metadata": {
        "id": "nJyLC3QMBnmN",
        "colab_type": "text"
      },
      "cell_type": "markdown",
      "source": [
        "## Install and import"
      ]
    },
    {
      "metadata": {
        "id": "IvqB0eO2HA6s",
        "colab_type": "code",
        "colab": {}
      },
      "cell_type": "code",
      "source": [
        "!pip -q install git+https://github.com/tensorflow/lucid.git"
      ],
      "execution_count": 0,
      "outputs": []
    },
    {
      "metadata": {
        "id": "GVN7tg7Gtb_F",
        "colab_type": "code",
        "colab": {}
      },
      "cell_type": "code",
      "source": [
        "import os\n",
        "import io\n",
        "import sys\n",
        "from string import Template\n",
        "\n",
        "import numpy as np\n",
        "import PIL.Image\n",
        "import matplotlib.pylab as pl\n",
        "\n",
        "import tensorflow as tf\n",
        "\n",
        "from IPython.display import clear_output, display, Image, HTML\n",
        "\n",
        "from lucid.misc.gl.glcontext import create_opengl_context\n",
        "import OpenGL.GL as gl\n",
        "\n",
        "from lucid.misc.gl import meshutil\n",
        "from lucid.misc.gl import glrenderer\n",
        "import lucid.misc.io.showing as show\n",
        "from lucid.misc.io import load\n",
        "from lucid.misc.tfutil import create_session\n",
        "\n",
        "from lucid.modelzoo import vision_models\n",
        "from lucid.optvis import objectives\n",
        "from lucid.optvis import param\n",
        "from lucid.optvis.param.spatial import sample_bilinear"
      ],
      "execution_count": 0,
      "outputs": []
    },
    {
      "metadata": {
        "id": "z8wv3yfwB6Id",
        "colab_type": "code",
        "colab": {}
      },
      "cell_type": "code",
      "source": [
        "create_opengl_context()\n",
        "print(gl.glGetString(gl.GL_VERSION))"
      ],
      "execution_count": 0,
      "outputs": []
    },
    {
      "metadata": {
        "id": "wctACiAdMuqH",
        "colab_type": "text"
      },
      "cell_type": "markdown",
      "source": [
        "## Loading 3D model"
      ]
    },
    {
      "metadata": {
        "id": "VKLoXbi-3kjk",
        "colab_type": "code",
        "colab": {}
      },
      "cell_type": "code",
      "source": [
        "!gsutil cp gs://deepdream/article_models.zip . && unzip -qo article_models.zip\n",
        "!cat article_models/readme.txt"
      ],
      "execution_count": 0,
      "outputs": []
    },
    {
      "metadata": {
        "id": "7cNlampQJ_T8",
        "colab_type": "code",
        "colab": {}
      },
      "cell_type": "code",
      "source": [
        "mesh = meshutil.load_obj('article_models/bunny.obj')\n",
        "mesh = meshutil.normalize_mesh(mesh)\n",
        "original_texture = load('article_models/bunny.png')"
      ],
      "execution_count": 0,
      "outputs": []
    },
    {
      "metadata": {
        "id": "PkU00JHTIE4y",
        "colab_type": "text"
      },
      "cell_type": "markdown",
      "source": [
        "## Texture Synthesis"
      ]
    },
    {
      "metadata": {
        "id": "Z4A1_xf90kUX",
        "colab_type": "code",
        "colab": {}
      },
      "cell_type": "code",
      "source": [
        "renderer = glrenderer.MeshRenderer((512, 512))"
      ],
      "execution_count": 0,
      "outputs": []
    },
    {
      "metadata": {
        "id": "aphqLRmZBy5D",
        "colab_type": "code",
        "colab": {}
      },
      "cell_type": "code",
      "source": [
        "model = vision_models.InceptionV1()\n",
        "model.load_graphdef()"
      ],
      "execution_count": 0,
      "outputs": []
    },
    {
      "metadata": {
        "id": "Aqd-AQcjQYhS",
        "colab_type": "code",
        "colab": {}
      },
      "cell_type": "code",
      "source": [
        "sess = create_session()\n",
        "\n",
        "t_fragments = tf.placeholder(tf.float32, [None, None, 4]) # channels: UV_A\n",
        "t_uv = t_fragments[...,:2]\n",
        "t_alpha = t_fragments[...,3:]\n",
        "\n",
        "t_texture = param.image(1024, fft=True, decorrelate=True)[0]\n",
        "t_frame = sample_bilinear(t_texture, t_uv) * t_alpha\n",
        "\n",
        "model.import_graph(t_frame)\n",
        "\n",
        "\n",
        "def T(layer):\n",
        "  return sess.graph.get_tensor_by_name(\"import/%s:0\"%layer)\n",
        "\n",
        "obj = objectives.as_objective('mixed4b_pool_reduce_pre_relu:17')(T)\n",
        "tf.losses.add_loss(-obj)\n",
        "\n",
        "\n",
        "t_lr = tf.constant(0.01)\n",
        "t_loss = tf.losses.get_total_loss()\n",
        "trainer = tf.train.AdamOptimizer(t_lr)\n",
        "train_op = trainer.minimize(t_loss)\n",
        "\n",
        "init_op = tf.global_variables_initializer()\n",
        "init_op.run()\n"
      ],
      "execution_count": 0,
      "outputs": []
    },
    {
      "metadata": {
        "id": "TuGggs9RJ5u1",
        "colab_type": "code",
        "colab": {}
      },
      "cell_type": "code",
      "source": [
        "# Verify that model renders correctly\n",
        "fragments = renderer.render_mesh(modelview=meshutil.sample_view(11.0, 13.0), **mesh)\n",
        "img = t_frame.eval({t_fragments: fragments, t_texture: original_texture})\n",
        "show.image(img, 'jpeg')"
      ],
      "execution_count": 0,
      "outputs": []
    },
    {
      "metadata": {
        "id": "asDp-dRxCN8O",
        "colab_type": "code",
        "colab": {}
      },
      "cell_type": "code",
      "source": [
        "loss_log = []\n",
        "init_op.run()"
      ],
      "execution_count": 0,
      "outputs": []
    },
    {
      "metadata": {
        "id": "vdd8V9mdCJRS",
        "colab_type": "code",
        "colab": {}
      },
      "cell_type": "code",
      "source": [
        "for i in range(400):\n",
        "  # Render mesh UVs with OpenGL\n",
        "  fragments = renderer.render_mesh(modelview=meshutil.sample_view(11.0, 13.0), **mesh)\n",
        "  # Perform step optimization for the current view\n",
        "  _, loss = sess.run([train_op, t_loss], {t_fragments: fragments, t_lr:0.03})\n",
        "  loss_log.append(loss)\n",
        "  if i==0 or (i+1)%50 == 0:\n",
        "    clear_output()\n",
        "    last_frame = sess.run(t_frame, {t_fragments: fragments})\n",
        "    show.images([last_frame, fragments], ['current', 'uv'])\n",
        "  if i==0 or (i+1)%10 == 0:\n",
        "    print(len(loss_log), loss)\n"
      ],
      "execution_count": 0,
      "outputs": []
    },
    {
      "metadata": {
        "id": "K53nDwFNMMkH",
        "colab_type": "code",
        "colab": {}
      },
      "cell_type": "code",
      "source": [
        "pl.plot(loss_log);"
      ],
      "execution_count": 0,
      "outputs": []
    },
    {
      "metadata": {
        "id": "87MvSdldFOso",
        "colab_type": "text"
      },
      "cell_type": "markdown",
      "source": [
        "## Display Result"
      ]
    },
    {
      "metadata": {
        "id": "5UG6AYJwFOFr",
        "colab_type": "code",
        "colab": {}
      },
      "cell_type": "code",
      "source": [
        "texture = t_texture.eval()\n",
        "show.textured_mesh(mesh, texture)"
      ],
      "execution_count": 0,
      "outputs": []
    },
    {
      "metadata": {
        "id": "Nz2pS_FM8XEW",
        "colab_type": "code",
        "colab": {}
      },
      "cell_type": "code",
      "source": [
        "show.image(texture, 'jpeg')"
      ],
      "execution_count": 0,
      "outputs": []
    }
  ]
}